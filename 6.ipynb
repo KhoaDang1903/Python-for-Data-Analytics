{
 "cells": [
  {
   "cell_type": "markdown",
   "metadata": {
    "id": "Xcn3mZe0LCoE"
   },
   "source": [
    "## Task 1\n",
    "Hãy viết một function để tìm giá trị lớn nhất từ 3 số đầu vào. <br>\n",
    "\n",
    "**Lưu ý**: không sử dụng hàm max()"
   ]
  },
  {
   "cell_type": "code",
   "execution_count": 1,
   "metadata": {
    "id": "c_QP66w_LC8G"
   },
   "outputs": [],
   "source": [
    "def find_max_list(a, b, c):\n",
    "    return sorted([a, b, c])[-1]"
   ]
  },
  {
   "cell_type": "code",
   "execution_count": 2,
   "metadata": {},
   "outputs": [],
   "source": [
    "def find_max(a, b, c):\n",
    "    if a > b and a > c:\n",
    "        return a\n",
    "    elif b > c and b > a:\n",
    "        return b\n",
    "    elif c > a and c > b:\n",
    "        return c"
   ]
  },
  {
   "cell_type": "code",
   "execution_count": 3,
   "metadata": {},
   "outputs": [
    {
     "data": {
      "text/plain": [
       "3"
      ]
     },
     "execution_count": 3,
     "metadata": {},
     "output_type": "execute_result"
    }
   ],
   "source": [
    "find_max(1, 2, 3)"
   ]
  },
  {
   "cell_type": "markdown",
   "metadata": {},
   "source": [
    "## Task 2\n",
    "\n",
    "Hãy định nghĩa một hàm sum() và một hàm multiply() thực hiện phép tính tổng và nhân cho tất cả các giá trị trong một danh sách các số. <br>\n",
    "Ví dụ: sum ([1, 2, 3, 4]) sẽ trả về 10 và nhân ([1, 2, 3, 4]) sẽ trả về 244."
   ]
  },
  {
   "cell_type": "code",
   "execution_count": 7,
   "metadata": {},
   "outputs": [],
   "source": [
    "def sum_by_myseft(x):\n",
    "    # Start here"
   ]
  },
  {
   "cell_type": "code",
   "execution_count": 8,
   "metadata": {
    "id": "1sR1V6TbN3Xz"
   },
   "outputs": [
    {
     "data": {
      "text/plain": [
       "True"
      ]
     },
     "execution_count": 8,
     "metadata": {},
     "output_type": "execute_result"
    }
   ],
   "source": [
    "# Check ur function\n",
    "sum_by_myseft([1, 2, 3]) == 1+2+3"
   ]
  },
  {
   "cell_type": "code",
   "execution_count": 11,
   "metadata": {
    "id": "Nx9ECd8qNwvz"
   },
   "outputs": [],
   "source": [
    "def multiply_by_myseft(x):\n",
    "    # Start here"
   ]
  },
  {
   "cell_type": "code",
   "execution_count": 12,
   "metadata": {
    "id": "0cl2oMLxOFO-"
   },
   "outputs": [
    {
     "data": {
      "text/plain": [
       "True"
      ]
     },
     "execution_count": 12,
     "metadata": {},
     "output_type": "execute_result"
    }
   ],
   "source": [
    "# Check ur function and it should return True\n",
    "multiply_by_myseft([1, 2, 3]) == 1*2*3"
   ]
  },
  {
   "cell_type": "markdown",
   "metadata": {
    "id": "GEquJTB-LDIs"
   },
   "source": [
    "## Task 3\n",
    "Hãy viết một function để kiểm một xâu có phải là pangram hay không\n",
    "\n",
    "Định nghĩa: *pangram* là một xâu có sự xuất hiện tất cả các ký tự alphabet ít nhất một lần. Ví dụ: \"The quick brown fox jumps over the lazy dog\""
   ]
  },
  {
   "cell_type": "code",
   "execution_count": 1,
   "metadata": {
    "id": "GGqHurucLDXx"
   },
   "outputs": [],
   "source": [
    "import string\n",
    "\n",
    "alphabet = string.ascii_lowercase"
   ]
  },
  {
   "cell_type": "code",
   "execution_count": 6,
   "metadata": {},
   "outputs": [],
   "source": [
    "def ispangram_for(docs):\n",
    "    \"\"\"\n",
    "    duyệt các kí tự trong xâu alphabet\n",
    "        kiểm tra xem kí tự đó có nằm trong xâu đầu vào không\n",
    "        nếu có thì duyệt tiếp\n",
    "        nếu không thì kết luận xâu không phải pangram và stop duyệt\n",
    "    kết thúc vòng for, nếu xâu không bị stop giữa chừng thì kết luận xâu là pangram\n",
    "    \"\"\"\n",
    "    flag = True\n",
    "\n",
    "    for ch in alphabet:\n",
    "        if ch not in docs.lower():\n",
    "            flag = False\n",
    "            break\n",
    "\n",
    "    if flag:\n",
    "        print(\"Là pangram\")\n",
    "    else:\n",
    "        print(\"không phải pangram\")"
   ]
  },
  {
   "cell_type": "code",
   "execution_count": 3,
   "metadata": {},
   "outputs": [],
   "source": [
    "def ispangram_for_2(docs):\n",
    "    \"\"\"Cách này giống cách trên tuy nhiên khi gặp return\n",
    "    thì tương tự break sẽ trả về giá trị ở return đồng thời\n",
    "    stop hết mọi thứ.\n",
    "    \"\"\"\n",
    "    for ch in alphabet:\n",
    "        if ch not in docs.lower():\n",
    "            return False\n",
    "    return True"
   ]
  },
  {
   "cell_type": "code",
   "execution_count": 4,
   "metadata": {},
   "outputs": [
    {
     "data": {
      "text/plain": [
       "False"
      ]
     },
     "execution_count": 5,
     "metadata": {},
     "output_type": "execute_result"
    }
   ],
   "source": [
    "def ispangram_set(docs):\n",
    "    \"\"\"\n",
    "    Để xâu được gọi là pangram thì tất cả các ký tự alphabet cần xuất hiện ít nhất 1 lần.\n",
    "    Tập các kí tự alphabet phải là tập con của tập các kí tự trong xâu đầu vào\n",
    "    \"\"\"\n",
    "    set_alphabet = set(alphabet)\n",
    "    set_docs = set(docs.lower())\n",
    "    if set_alphabet.issubset(set_docs):\n",
    "        print(\"Là pangram\")\n",
    "    else:\n",
    "        print(\"không phải pangram\")"
   ]
  },
  {
   "cell_type": "code",
   "execution_count": null,
   "metadata": {},
   "outputs": [],
   "source": [
    "ispangram_set('The quick brown fox jumps over the lazy dog.')  # True"
   ]
  },
  {
   "cell_type": "code",
   "execution_count": null,
   "metadata": {},
   "outputs": [],
   "source": [
    "ispangram_set('The quick brown fox jumps over the dog')  # False"
   ]
  },
  {
   "cell_type": "code",
   "execution_count": 6,
   "metadata": {
    "id": "UIK-FwNKNuOi"
   },
   "outputs": [],
   "source": [
    "def sum_by_myseft(x: list):\n",
    "    total = 0\n",
    "    for number in x:\n",
    "        total = total + number\n",
    "    return total"
   ]
  },
  {
   "cell_type": "code",
   "execution_count": 7,
   "metadata": {
    "id": "1sR1V6TbN3Xz"
   },
   "outputs": [
    {
     "data": {
      "text/plain": [
       "True"
      ]
     },
     "execution_count": 7,
     "metadata": {},
     "output_type": "execute_result"
    }
   ],
   "source": [
    "# Check ur function\n",
    "sum_by_myseft([10, 1, 2]) == 10 + 1 + 2"
   ]
  },
  {
   "cell_type": "code",
   "execution_count": 8,
   "metadata": {
    "id": "Nx9ECd8qNwvz"
   },
   "outputs": [],
   "source": [
    "def multiply_by_myseft(x):\n",
    "    s = 1\n",
    "    for i in x:\n",
    "        s *= i\n",
    "    return s"
   ]
  },
  {
   "cell_type": "code",
   "execution_count": 9,
   "metadata": {
    "id": "0cl2oMLxOFO-"
   },
   "outputs": [
    {
     "data": {
      "text/plain": [
       "True"
      ]
     },
     "execution_count": 9,
     "metadata": {},
     "output_type": "execute_result"
    }
   ],
   "source": [
    "# Check ur function and it should return True\n",
    "multiply_by_myseft([1, 2, 3]) == 1*2*3"
   ]
  },
  {
   "cell_type": "markdown",
   "metadata": {},
   "source": [
    "## Task 4\n",
    "Hãy viết hàm tìm **TỪ** xuất hiện nhiều nhất trong đoạn văn bản (top 1). Trong trường hợp có nhiều hơn 1 từ thì in ra tất cả từ đó."
   ]
  },
  {
   "cell_type": "code",
   "execution_count": 14,
   "metadata": {},
   "outputs": [],
   "source": [
    "def find_most_freq_word(docs, top_n=1):\n",
    "    \"\"\"Tìm từ xuất hiện nhiều nhất trong xâu.\n",
    "\n",
    "    Xây dựng bảng từ điển tần suất của từ\n",
    "    Tìm max của value, max(.values())\n",
    "    Tìm key có value bằng với giá trị max vừa tìm được\n",
    "    \"\"\"\n",
    "    bow = docs.lower().split()\n",
    "    freq_dict = {}\n",
    "\n",
    "    # Xây dựng bảng từ điển tần suất của từ\n",
    "    for word in bow:\n",
    "        freq_dict[word] = bow.count(word)\n",
    "        \n",
    "    # Tìm max của value, max(.values())\n",
    "    max_freq = max(freq_dict.values())\n",
    "    \n",
    "    # Tìm key (word) có value bằng với giá trị max vừa tìm được\n",
    "    for k, v in freq_dict.items():\n",
    "        if v == max_freq:\n",
    "            print(k)"
   ]
  },
  {
   "cell_type": "code",
   "execution_count": 15,
   "metadata": {},
   "outputs": [
    {
     "data": {
      "text/plain": [
       "['are', 'once']"
      ]
     },
     "execution_count": 15,
     "metadata": {},
     "output_type": "execute_result"
    }
   ],
   "source": [
    "find_most_freq_word('Pangrams are words or sentences Pangrams containing every letter of the alphabet at least once are')"
   ]
  },
  {
   "cell_type": "markdown",
   "metadata": {},
   "source": [
    "##### Nếu có thời gian các bạn có thể phát triển bài toán phức tạp hơn, đó là tìm top n từ xuất hiện nhiều nhất với top_n là một tham số của hàm."
   ]
  },
  {
   "cell_type": "markdown",
   "metadata": {},
   "source": [
    "## Task 5\n",
    "Hãy viết một hàm nhận đầu vào là một list các số nguyên. Hàm sẽ kiểm tra nếu list đó có chứa 123 theo thứ tự và liền kề nhau thì trả về True, ngược lại thì False.\n",
    "```\n",
    "contain_123([1, 3, 2, 4, 1]) -> False\n",
    "contain_123([0, 1, 2, 3, -1, 2]) -> True\n",
    "contain_123([0, 1, 4, 2, 3]) -> False\n",
    "```"
   ]
  },
  {
   "cell_type": "code",
   "execution_count": null,
   "metadata": {},
   "outputs": [],
   "source": [
    "def contain_123(lst):\n",
    "    \"\"\"\n",
    "    Biến cờ set ban đầu bằng False\n",
    "    Duyệt lấy ra 3 giá trị đồng thời\n",
    "        kiểm tra xem giá trị thứ nhất có là số 1, thứ 2 có là số 2 và thứ 3 có là số 3\n",
    "        Nếu đúng thì gán cờ bằng True và break\n",
    "    \n",
    "    \"\"\"\n",
    "    flag = False\n",
    "    for i in range(0, len(lst)-2):\n",
    "        if lst[i] == 1 and lst[i+1] == 2 and lst[i+2] == 3:\n",
    "            flag = True\n",
    "            break\n",
    "    \n",
    "    return flag"
   ]
  },
  {
   "cell_type": "code",
   "execution_count": 27,
   "metadata": {},
   "outputs": [],
   "source": [
    "def contain_123_str(lst):\n",
    "    \"\"\"\n",
    "    Đưa list về string bằng cách duyệt từng giá trị trong list và concat vô biến string_list\n",
    "    Check \"123\" có nằm trong string_list\n",
    "    \"\"\"\n",
    "    string_list = ''\n",
    "\n",
    "    for i in lst:\n",
    "        string_list = string_list + str(i)\n",
    "\n",
    "    return \"123\" in string_list"
   ]
  },
  {
   "cell_type": "code",
   "execution_count": 28,
   "metadata": {},
   "outputs": [],
   "source": [
    "contain_123_str([0, 1, 2, 3, -1, 2])"
   ]
  },
  {
   "cell_type": "code",
   "execution_count": 29,
   "metadata": {},
   "outputs": [
    {
     "data": {
      "text/plain": [
       "False"
      ]
     },
     "execution_count": 29,
     "metadata": {},
     "output_type": "execute_result"
    }
   ],
   "source": [
    "contain_123_str([1, 3, 2, 4, 1])"
   ]
  },
  {
   "cell_type": "markdown",
   "metadata": {},
   "source": [
    "## Task 6 Cow-bow (optional)\n",
    "1. Sinh 1 số nguyên ngẫu nhiên có 4 chữ số (1000 - 9999)\n",
    "2. Nhập số lần cho phép đoán (n)\n",
    "3. Nhập số vào từ bàn phím người dùng, cần kiểm tra xâu đó có phải số và trong khoảng [1000-9999] không. Nếu ít hơn tự thêm 0 vào đầu cho đủ độ dài , '23' -> '0023'\n",
    "4. Kiểm tra số nhập với số ngẫu nhiên nếu: \n",
    "- trùng giá trị tại cùng vị trí tính là cow \n",
    "- trường hợp sai tính là bow và giảm giá trị n đi<br>\n",
    "Mỗi lần kiểm tra in ra số cow và số bow tương ứng\n",
    "5. Chương trình chỉ kết thúc khi người dùng đoán đúng hoặc quá giá trị n\n",
    "```\n",
    ">>> random_number = 123\n",
    ">>> user_number = 323\n",
    "2 cow and 1 bow\n",
    ">>> user_number = 123\n",
    "3 cow and 0 bow\n",
    "correct\n",
    "```"
   ]
  },
  {
   "cell_type": "code",
   "execution_count": 32,
   "metadata": {},
   "outputs": [],
   "source": [
    "import random\n",
    "\n",
    "\n",
    "def cowbow(n):\n",
    "    \"\"\"Hàm xử lý cho game cowbow.\n",
    "    \n",
    "    Gồm các bước:\n",
    "     - while để ràng buộc số lần người chơi nhập\n",
    "     - hàm if để fill giá trị 0 nếu người dùng nhập số ít hơn 4 ký tự, ví dụ nhập '23' -> '0023'\n",
    "     - kiểm tra từng giá trị ở từng vị trí giữa số ngẫu nhiên và giá trị người dùng nhập và trả về một list[True, False], ví dụ '1234' và '1243' -> [True, True, False, False]\n",
    "     \n",
    "    Params:\n",
    "     :n (int) số lần người chơi có thể đoán số.\n",
    "\n",
    "    Returns:\n",
    "     result string\n",
    "    \"\"\"\n",
    "    random_num = str(random.randint(1000, 9999))  # sinh số ngẫu nhiên\n",
    "    print('Random value =', random_num)\n",
    "    while n != 0:\n",
    "        user_num = input(f\"You have {n} turns. Enter ur number: \")\n",
    "        if len(user_num) < 4:\n",
    "            user_num = user_num.zfill(4)  # 0023\n",
    "        cnt = [random_num[i] == user_num[i] for i in range(len(user_num))]  # list [True, False] kiểm tra từng vị trí số nhập \n",
    "        print(f\"{cnt.count(True)} cows and {cnt.count(False)} bows\")\n",
    "        if cnt.count(True) == 4:\n",
    "            return \"Correct\"\n",
    "        n -= 1\n",
    "    return \"Out of turn\""
   ]
  },
  {
   "cell_type": "code",
   "execution_count": 34,
   "metadata": {},
   "outputs": [
    {
     "name": "stdout",
     "output_type": "stream",
     "text": [
      "Random value = 3912\n"
     ]
    },
    {
     "name": "stdin",
     "output_type": "stream",
     "text": [
      "You have 3 turns. Enter ur number:  3912\n"
     ]
    },
    {
     "name": "stdout",
     "output_type": "stream",
     "text": [
      "4 cows and 0 bows\n"
     ]
    },
    {
     "data": {
      "text/plain": [
       "'Correct'"
      ]
     },
     "execution_count": 34,
     "metadata": {},
     "output_type": "execute_result"
    }
   ],
   "source": [
    "cowbow(3)"
   ]
  }
 ],
 "metadata": {
  "colab": {
   "name": "Assignment 5.ipynb",
   "provenance": []
  },
  "kernelspec": {
   "display_name": "Python 3 (ipykernel)",
   "language": "python",
   "name": "python3"
  },
  "language_info": {
   "codemirror_mode": {
    "name": "ipython",
    "version": 3
   },
   "file_extension": ".py",
   "mimetype": "text/x-python",
   "name": "python",
   "nbconvert_exporter": "python",
   "pygments_lexer": "ipython3",
   "version": "3.11.5"
  }
 },
 "nbformat": 4,
 "nbformat_minor": 4
}
