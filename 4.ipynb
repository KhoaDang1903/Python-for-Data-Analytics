{
 "cells": [
  {
   "cell_type": "markdown",
   "metadata": {
    "colab_type": "text",
    "id": "nNRDIdqj-ZxU"
   },
   "source": [
    "## Task 1\n",
    "Cho 2 list $A$ và $B$ như bên dưới. Viết code để sinh ra các list mới với yêu cầu như sau.\n",
    "1. List C chứa các phần tử trong cả A và B\n",
    "2. List D chứa các phần tử có trong A nhưng không có trong B"
   ]
  },
  {
   "cell_type": "code",
   "execution_count": 2,
   "metadata": {
    "colab": {},
    "colab_type": "code",
    "id": "aZ-ocKC--S6G"
   },
   "outputs": [],
   "source": [
    "A = [1, 1, 2, 3, 5, 8, 13, 21, 34, 55, 89]\n",
    "B = [1, 2, 3, 4, 5, 6, 7, 8, 9, 10, 11, 12, 13, 13]"
   ]
  },
  {
   "cell_type": "code",
   "execution_count": 4,
   "metadata": {},
   "outputs": [
    {
     "data": {
      "text/plain": [
       "[1, 2, 3, 5, 8, 13]"
      ]
     },
     "execution_count": 4,
     "metadata": {},
     "output_type": "execute_result"
    }
   ],
   "source": [
    "# List C chứa các phần tử trong cả A và B\n",
    "C = []\n",
    "for i in A:\n",
    "    if i in B and i not in C:\n",
    "        C.append(i)\n",
    "C"
   ]
  },
  {
   "cell_type": "code",
   "execution_count": 5,
   "metadata": {},
   "outputs": [
    {
     "name": "stdout",
     "output_type": "stream",
     "text": [
      "[21, 34, 55, 89]\n"
     ]
    }
   ],
   "source": [
    "# List D chứa các phần tử có trong A nhưng không có trong B\n",
    "D = []\n",
    "for i in A:\n",
    "    if i not in B:\n",
    "        D.append(i)\n",
    "        \n",
    "print(D)"
   ]
  },
  {
   "cell_type": "markdown",
   "metadata": {
    "colab_type": "text",
    "id": "iKFUqrOH_MRa"
   },
   "source": [
    "## Task 2\n",
    "\n",
    "Cho dữ liệu đầu vào ở dạng list như ở dưới hãy viết 1 đoạn code để có được list như <b>exchange_output</b><br>\n",
    "Gợi ý: range, slicing.</i>"
   ]
  },
  {
   "cell_type": "code",
   "execution_count": 8,
   "metadata": {
    "colab": {},
    "colab_type": "code",
    "id": "t6WDHZWf_Sj7"
   },
   "outputs": [],
   "source": [
    "exchange_input = [\n",
    "    'Nam', 2005, 'Hà Nội', 'Sinh viên',\n",
    "    'Trang', 1998, 'Hải Phỏng', 'Kế toán',\n",
    "    'Tùng', 1988, 'Hồ Chí Minh', 'Giảng viên đại học'\n",
    "]\n",
    "\n",
    "# Expected output\n",
    "# exchange_output = [['Nam', 2005, 'Hà Nội', 'Sinh viên'], \n",
    "#                    ['Trang', 1998, 'Hải Phỏng', 'Kế toán'],\n",
    "#                    ['Tùng', 1988, 'Hồ Chí Minh', 'Giảng viên đại học']]"
   ]
  },
  {
   "cell_type": "code",
   "execution_count": 9,
   "metadata": {
    "tags": []
   },
   "outputs": [],
   "source": [
    "exchange_output = []\n",
    "for i in range(0, len(exchange_input), 4):\n",
    "    sublist = exchange_input[i:i+4]\n",
    "    exchange_output.append(sublist)"
   ]
  },
  {
   "cell_type": "code",
   "execution_count": 10,
   "metadata": {},
   "outputs": [
    {
     "data": {
      "text/plain": [
       "[['Nam', 2005, 'Hà Nội', 'Sinh viên'],\n",
       " ['Trang', 1998, 'Hải Phỏng', 'Kế toán'],\n",
       " ['Tùng', 1988, 'Hồ Chí Minh', 'Giảng viên đại học']]"
      ]
     },
     "execution_count": 10,
     "metadata": {},
     "output_type": "execute_result"
    }
   ],
   "source": [
    "exchange_output"
   ]
  },
  {
   "cell_type": "markdown",
   "metadata": {},
   "source": [
    "## Task 3\n",
    "Hãy xóa tất cả các giá trị bị lặp xuất hiện trong list mà vẫn giữ nguyên thứ tự của các item khác.\n",
    "Ví dụ:\n",
    "```\n",
    "lst = [1, 1, 2, 4, 3, 2, 4, 5, 1, 2, 6]\n",
    "output = [1, 2, 4, 3, 5, 6]\n",
    "```"
   ]
  },
  {
   "cell_type": "code",
   "execution_count": 54,
   "metadata": {},
   "outputs": [],
   "source": [
    "lst = [1, 1, 2, 4, 3, 2, 4, 5, 1, 2, 6]"
   ]
  },
  {
   "cell_type": "code",
   "execution_count": 55,
   "metadata": {},
   "outputs": [],
   "source": [
    "output = []"
   ]
  },
  {
   "cell_type": "code",
   "execution_count": 56,
   "metadata": {},
   "outputs": [],
   "source": [
    "for i in lst:\n",
    "    if i not in output:\n",
    "        output.append(i)"
   ]
  },
  {
   "cell_type": "code",
   "execution_count": 57,
   "metadata": {},
   "outputs": [
    {
     "data": {
      "text/plain": [
       "[1, 2, 4, 3, 5, 6]"
      ]
     },
     "execution_count": 57,
     "metadata": {},
     "output_type": "execute_result"
    }
   ],
   "source": [
    "output"
   ]
  },
  {
   "cell_type": "markdown",
   "metadata": {},
   "source": [
    "## Task 4\n",
    "Sinh ra list kết quả dựa trên list đầu vào với quy tắc giá trị ở vị trí thứ i trong list kết quả bằng tổng các giá trị từ đầu list đến giá trị thứ i trong list đầu vào\n",
    "\n",
    "```\n",
    "input : [1, 2, 3, 4]\n",
    "output : [1, 1+2, 1+2+3, 1+2+3+4] = [1, 3, 6, 10]\n",
    "```"
   ]
  },
  {
   "cell_type": "code",
   "execution_count": 1,
   "metadata": {},
   "outputs": [],
   "source": [
    "inp_list = [1, 2, 3, 4]"
   ]
  },
  {
   "cell_type": "code",
   "execution_count": 2,
   "metadata": {},
   "outputs": [
    {
     "name": "stdout",
     "output_type": "stream",
     "text": [
      "[1, 3, 6, 10]\n"
     ]
    }
   ],
   "source": [
    "# Cách 1: \n",
    "output_list = []\n",
    "for i in range(len(inp_list)):\n",
    "    value = sum(inp_list[:i+1])\n",
    "    output_list.append(value)\n",
    "\n",
    "print(output_list)"
   ]
  },
  {
   "cell_type": "code",
   "execution_count": 3,
   "metadata": {},
   "outputs": [
    {
     "name": "stdout",
     "output_type": "stream",
     "text": [
      "[1, 3, 6, 10]\n"
     ]
    }
   ],
   "source": [
    "# Cách 2:\n",
    "output_list = []\n",
    "total = 0\n",
    "for it in inp_list:\n",
    "    total += it\n",
    "    output_list.append(total)\n",
    "\n",
    "print(output_list)"
   ]
  },
  {
   "cell_type": "markdown",
   "metadata": {},
   "source": [
    "## Task 5\n",
    "Cho một danh sách số nguyên hay tìm giá trị lớn nhất và giá trị nhỏ nhất trong list.\n",
    "\n",
    "Lưu ý: không được dùng hàm max() và min()."
   ]
  },
  {
   "cell_type": "code",
   "execution_count": null,
   "metadata": {},
   "outputs": [],
   "source": [
    "lst = [-1, -99, 10, 765, 51, 20, -56]\n",
    "lst.sort()"
   ]
  },
  {
   "cell_type": "code",
   "execution_count": null,
   "metadata": {},
   "outputs": [],
   "source": [
    "# Tìm giá trị max\n",
    "lst[-1]"
   ]
  },
  {
   "cell_type": "code",
   "execution_count": null,
   "metadata": {},
   "outputs": [],
   "source": [
    "# Tìm giá trị min\n",
    "lst[0]"
   ]
  },
  {
   "cell_type": "markdown",
   "metadata": {},
   "source": [
    "## Task 6 (Optional)\n",
    "Cho trước 2 list hãy thực hiện sinh ra list như kết quả mong muốn bằng cách lấy xen kẽ các giá trị giữa 2 list đầu vào:\n",
    "```\n",
    "lst1 = [1, 2, 3]\n",
    "lst2 = [4, 5, 6, 7, 8]\n",
    "output = [1, 4, 2, 5, 3, 6, 7, 8]\n",
    "```"
   ]
  },
  {
   "cell_type": "code",
   "execution_count": 13,
   "metadata": {
    "scrolled": true
   },
   "outputs": [],
   "source": [
    "lst1 = [1, 2, 3]\n",
    "lst2 = [4, 5, 6, 7, 8]"
   ]
  },
  {
   "cell_type": "code",
   "execution_count": 14,
   "metadata": {},
   "outputs": [],
   "source": [
    "max_len = max(len(lst1), len(lst2))"
   ]
  },
  {
   "cell_type": "code",
   "execution_count": 15,
   "metadata": {},
   "outputs": [],
   "source": [
    "out = []"
   ]
  },
  {
   "cell_type": "code",
   "execution_count": 16,
   "metadata": {},
   "outputs": [],
   "source": [
    "## ý tưởng\n",
    "### duyệt đồng thời 2 item có index giống nhau từ 2 list theo range của list dài hơn\n",
    "### thêm phần tử ở lst1 vào list kết quả rồi tiếp sau đó là phần tử ở lst2\n",
    "### với những item nào mà vượt quá độ dài của list ngắn hơn thì cần xử lý chỉ thêm phần tử ở vị trí đó từ list dài hơn (if)"
   ]
  },
  {
   "cell_type": "code",
   "execution_count": 17,
   "metadata": {},
   "outputs": [],
   "source": [
    "for i in range(max_len):\n",
    "    if i >= len(lst1):  # nếu item đang duyệt là các giá trị nằm ngoài lst1 thì chỉ append bằng item ở lst2\n",
    "        out.append(lst2[i]) \n",
    "    elif i >= len(lst2):  # nếu item đang duyệt nằm ngoài lst2 thì chỉ append của lst1\n",
    "        out.append(lst1[i])\n",
    "    else:  # nếu index đang duyệt nằm trong khoảng thỏa mãn ở cả 2 lst thì thêm lần lượt lst1 và lst2\n",
    "        out.extend([lst1[i], lst2[i]])"
   ]
  },
  {
   "cell_type": "code",
   "execution_count": 18,
   "metadata": {},
   "outputs": [
    {
     "data": {
      "text/plain": [
       "[1, 4, 2, 5, 3, 6, 7, 8]"
      ]
     },
     "execution_count": 18,
     "metadata": {},
     "output_type": "execute_result"
    }
   ],
   "source": [
    "out"
   ]
  }
 ],
 "metadata": {
  "colab": {
   "name": "Task 4.ipynb",
   "provenance": []
  },
  "kernelspec": {
   "display_name": "Python 3 (ipykernel)",
   "language": "python",
   "name": "python3"
  },
  "language_info": {
   "codemirror_mode": {
    "name": "ipython",
    "version": 3
   },
   "file_extension": ".py",
   "mimetype": "text/x-python",
   "name": "python",
   "nbconvert_exporter": "python",
   "pygments_lexer": "ipython3",
   "version": "3.9.18"
  }
 },
 "nbformat": 4,
 "nbformat_minor": 4
}
