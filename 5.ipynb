{
 "cells": [
  {
   "cell_type": "markdown",
   "metadata": {
    "colab_type": "text",
    "id": "ulFSwoU1BFS1"
   },
   "source": [
    "## Task 1\n",
    "Với dict đã cho hay thực hiện hoán đổi vị trí key và value tương ứng.<br>\n",
    "ví dụ {'a': 1, 'b': 2, 'd': [4, 5]} -> {1: 'a', 2: 'b', 4: 'd', 5: 'd'}"
   ]
  },
  {
   "cell_type": "code",
   "execution_count": 14,
   "metadata": {},
   "outputs": [],
   "source": [
    "inp = {'a': 1, 'b': 2, 'd': [4, 5]}\n",
    "out = {}"
   ]
  },
  {
   "cell_type": "code",
   "execution_count": null,
   "metadata": {},
   "outputs": [
    {
     "data": {
      "text/plain": [
       "{1: 'a', 2: 'b', 4: 'd', 5: 'd'}"
      ]
     },
     "execution_count": 15,
     "metadata": {},
     "output_type": "execute_result"
    }
   ],
   "source": [
    "for key, value in inp.items():\n",
    "    if type(value) is list:\n",
    "        for i in value:  # i = 4, 5\n",
    "            out[i] = key\n",
    "    else:\n",
    "        out[value] = key\n",
    "out"
   ]
  },
  {
   "cell_type": "markdown",
   "metadata": {},
   "source": [
    "## Task 2\n",
    "Nhập vào từ bàn phím một dãy số nguyên. Hãy kiểm tra xem danh sách có phải là dãy tăng hay không\n",
    "\n",
    "Ví dụ :\n",
    "```\n",
    "Chuỗi người dùng nhập: [1, 2, 3, -2]\n",
    "Chuỗi không phải là dãy tăng do 1 < 2 < 3 nhưng 3 > -2\n",
    "```\n",
    "\n",
    "Gợi ý để tạo chuỗi: có thể cho người dùng nhập giá trị rồi append để tạo list, khi nhập q thì stop nhập."
   ]
  },
  {
   "cell_type": "code",
   "execution_count": 26,
   "metadata": {},
   "outputs": [
    {
     "name": "stdout",
     "output_type": "stream",
     "text": [
      "Nhập đi 1\n",
      "Nhập đi 2\n",
      "Nhập đi 3\n",
      "Nhập đi q\n"
     ]
    },
    {
     "data": {
      "text/plain": [
       "[1, 2, 3]"
      ]
     },
     "execution_count": 26,
     "metadata": {},
     "output_type": "execute_result"
    }
   ],
   "source": [
    "# Nhập một dãy số nguyên từ bàn phím\n",
    "lst = []\n",
    "while True:\n",
    "    value = input(\"Nhập đi\")\n",
    "    if value == 'q':\n",
    "        break\n",
    "    else:\n",
    "        lst.append(int(value))\n",
    "lst"
   ]
  },
  {
   "cell_type": "code",
   "execution_count": null,
   "metadata": {},
   "outputs": [],
   "source": [
    "# kiem tra day tang\n",
    "# duyet tung phan trong lst\n",
    "## tai phan tu thu i dang duyet, kiem tra xem gia tri cua phan tu thu i+1 co nho hon gia tri cua phan tu thi i hay khong\n",
    "### neu dung la nho hon, thi break, va in ra la xau khong tang\n",
    "### con neu lon hon thì không sao, kiểm tra cặp tiếp theo"
   ]
  },
  {
   "cell_type": "code",
   "execution_count": 24,
   "metadata": {},
   "outputs": [
    {
     "name": "stdout",
     "output_type": "stream",
     "text": [
      "Xau khong tang\n"
     ]
    }
   ],
   "source": [
    "flag = True\n",
    "\n",
    "for i in range(len(lst)-1):\n",
    "    current_value = lst[i]\n",
    "    next_value = lst[i+1]\n",
    "    if next_value < current_value:\n",
    "        flag = False\n",
    "        break\n",
    "\n",
    "if flag:\n",
    "    print(\"Xau tang\")\n",
    "else:\n",
    "    print(\"Xau khong tang\")"
   ]
  },
  {
   "cell_type": "code",
   "execution_count": 27,
   "metadata": {},
   "outputs": [
    {
     "name": "stdout",
     "output_type": "stream",
     "text": [
      "Xau tang\n"
     ]
    }
   ],
   "source": [
    "# \n",
    "for i in range(len(lst)-1):\n",
    "    current_value = lst[i]\n",
    "    next_value = lst[i+1]\n",
    "    if next_value < current_value:\n",
    "        print(\"Xau khong tang\")\n",
    "        break\n",
    "else:\n",
    "    print(\"Xau tang\")\n",
    "# for/else"
   ]
  },
  {
   "cell_type": "code",
   "execution_count": null,
   "metadata": {},
   "outputs": [
    {
     "data": {
      "text/plain": [
       "False"
      ]
     },
     "execution_count": 43,
     "metadata": {},
     "output_type": "execute_result"
    }
   ],
   "source": [
    "# Cach 3: so sánh xâu ban đầu với xâu sắp xếp tăng dần\n",
    "lst = [1, 2, 3, -1]\n",
    "lst_copy = lst.copy()\n",
    "lst_copy.sort()\n",
    "if lst == lst_copy:\n",
    "    print(\"Xau tang\")\n",
    "else:\n",
    "    print(\"Xau khong tang\")"
   ]
  },
  {
   "cell_type": "markdown",
   "metadata": {},
   "source": [
    "## Task 3\n",
    "Cho trước 1 đoạn văn bản, hãy xác định tần suất xuất hiện của mỗi **TỪ** và lưu ở dạng dict trong đó key là từ và value là số lần xuất hiện của từ đó trong văn bản."
   ]
  },
  {
   "cell_type": "code",
   "execution_count": 45,
   "metadata": {},
   "outputs": [],
   "source": [
    "docs = \"\"\"It's getting harder and harder to be just a 'generic' Data Scientist. \n",
    "With so many different branches expanding so rapidly, and with the demand always raising the bar, one has to choose their niche.\"\"\""
   ]
  },
  {
   "cell_type": "code",
   "execution_count": 46,
   "metadata": {},
   "outputs": [],
   "source": [
    "# tao ra danh sach từ từ input docs\n",
    "## duyệt từng từ, đếm tần suất của từ đó -> tạo key là từ và value là tần suất vừa đếm"
   ]
  },
  {
   "cell_type": "code",
   "execution_count": 51,
   "metadata": {},
   "outputs": [
    {
     "data": {
      "text/plain": [
       "{\"it's\": 1,\n",
       " 'getting': 1,\n",
       " 'harder': 2,\n",
       " 'and': 2,\n",
       " 'to': 2,\n",
       " 'be': 1,\n",
       " 'just': 1,\n",
       " 'a': 1,\n",
       " \"'generic'\": 1,\n",
       " 'data': 1,\n",
       " 'scientist.': 1,\n",
       " 'with': 2,\n",
       " 'so': 2,\n",
       " 'many': 1,\n",
       " 'different': 1,\n",
       " 'branches': 1,\n",
       " 'expanding': 1,\n",
       " 'rapidly,': 1,\n",
       " 'the': 2,\n",
       " 'demand': 1,\n",
       " 'always': 1,\n",
       " 'raising': 1,\n",
       " 'bar,': 1,\n",
       " 'one': 1,\n",
       " 'has': 1,\n",
       " 'choose': 1,\n",
       " 'their': 1,\n",
       " 'niche.': 1}"
      ]
     },
     "execution_count": 51,
     "metadata": {},
     "output_type": "execute_result"
    }
   ],
   "source": [
    "bow = docs.lower().split()\n",
    "rs = {}\n",
    "for word in bow:\n",
    "    freq = bow.count(word)\n",
    "    rs[word] = freq\n",
    "rs"
   ]
  },
  {
   "cell_type": "markdown",
   "metadata": {},
   "source": [
    "## Task 4\n",
    "\n",
    "Thông tin học viên trong lớp trước tại thời điểm đầu năm:\n",
    "```\n",
    "data = [\n",
    "    {\"name\": \"Thanh\",\n",
    "     \"phone\": \"0988888888\",\n",
    "     \"languages\": [\"Python\", \"C\", \"SQL\", \"HTML\", \"CSS\", \"JavaScript\", \"Golang\"]},\n",
    "    {\"name\": \"Duy\",\n",
    "     \"girl_friend\": \"Maria\"},\n",
    "    {\"name\": \"Dai\",\n",
    "     \"girl_friend\": \"Angela\"},\n",
    "    {\"name\": \"Tu\"}\n",
    "]\n",
    "```\n",
    "\n",
    "Yêu cầu: \n",
    "Trả về list thông tin các học viên vào cuối năm, sau khi đã **CẬP NHẬT** các thay đổi trong năm và **không thay đổi dữ liệu của năm cũ**. Biết rằng:\n",
    "\n",
    "- Các học viên đều học được các ngôn ngữ lập trình trong \"languages\" của học viên \"Thanh\".\n",
    "- Sau đó \"Thanh\" học thêm được ngôn ngữ \"R\", **NHƯNG** các học viên khác không biết ngôn ngữ này.\n",
    "- \"Tu\" có bạn gái tên là \"Do Anh\".\n",
    "- \"Duy\" chia tay bạn gái, không còn bạn gái nữa.\n",
    "\n",
    "Lưu ý: Ví dụ này cần sử dụng đến deepcopy, xem thêm tại: https://docs.python.org/3/library/copy.html\n"
   ]
  },
  {
   "cell_type": "code",
   "execution_count": 61,
   "metadata": {},
   "outputs": [],
   "source": [
    "from copy import deepcopy\n",
    "\n",
    "data = [\n",
    "    {\"name\": \"Thanh\",\n",
    "     \"phone\": \"0988888888\",\n",
    "     \"languages\": [\"Python\", \"C\", \"SQL\", \"HTML\", \"CSS\", \"JavaScript\", \"Golang\"]},\n",
    "    {\"name\": \"Duy\", \n",
    "     \"girl_friend\": \"Maria\"},\n",
    "    {\"name\": \"Dai\",\n",
    "     \"girl_friend\": \"Angela\"},\n",
    "    {\"name\": \"Tu\"},\n",
    "]"
   ]
  },
  {
   "cell_type": "code",
   "execution_count": 62,
   "metadata": {},
   "outputs": [],
   "source": [
    "new_data = data.copy()"
   ]
  },
  {
   "cell_type": "code",
   "execution_count": 63,
   "metadata": {},
   "outputs": [
    {
     "data": {
      "text/plain": [
       "[{'name': 'Thanh',\n",
       "  'phone': '0988888888',\n",
       "  'languages': ['Python', 'C', 'SQL', 'HTML', 'CSS', 'JavaScript', 'Golang']},\n",
       " {'name': 'Duy',\n",
       "  'girl_friend': 'Maria',\n",
       "  'languages': ['Python', 'C', 'SQL', 'HTML', 'CSS', 'JavaScript', 'Golang']},\n",
       " {'name': 'Dai',\n",
       "  'girl_friend': 'Angela',\n",
       "  'languages': ['Python', 'C', 'SQL', 'HTML', 'CSS', 'JavaScript', 'Golang']},\n",
       " {'name': 'Tu',\n",
       "  'languages': ['Python', 'C', 'SQL', 'HTML', 'CSS', 'JavaScript', 'Golang']}]"
      ]
     },
     "execution_count": 63,
     "metadata": {},
     "output_type": "execute_result"
    }
   ],
   "source": [
    "# Các học viên đều học được các ngôn ngữ lập trình trong \"languages\" của học viên \"Thanh\".\n",
    "thanh_lang = new_data[0]['languages']\n",
    "\n",
    "new_data[1]['languages'] = thanh_lang.copy()  # copy value cua list thanh_lang de tao ra key-value cho Duy\n",
    "new_data[2]['languages'] = thanh_lang.copy()\n",
    "new_data[3]['languages'] = thanh_lang.copy()\n",
    "new_data"
   ]
  },
  {
   "cell_type": "code",
   "execution_count": 64,
   "metadata": {},
   "outputs": [
    {
     "data": {
      "text/plain": [
       "[{'name': 'Thanh',\n",
       "  'phone': '0988888888',\n",
       "  'languages': ['Python',\n",
       "   'C',\n",
       "   'SQL',\n",
       "   'HTML',\n",
       "   'CSS',\n",
       "   'JavaScript',\n",
       "   'Golang',\n",
       "   'R']},\n",
       " {'name': 'Duy',\n",
       "  'girl_friend': 'Maria',\n",
       "  'languages': ['Python', 'C', 'SQL', 'HTML', 'CSS', 'JavaScript', 'Golang']},\n",
       " {'name': 'Dai',\n",
       "  'girl_friend': 'Angela',\n",
       "  'languages': ['Python', 'C', 'SQL', 'HTML', 'CSS', 'JavaScript', 'Golang']},\n",
       " {'name': 'Tu',\n",
       "  'languages': ['Python', 'C', 'SQL', 'HTML', 'CSS', 'JavaScript', 'Golang']}]"
      ]
     },
     "execution_count": 64,
     "metadata": {},
     "output_type": "execute_result"
    }
   ],
   "source": [
    "# Sau đó \"Thanh\" học thêm được ngôn ngữ \"R\", các học viên khác không biết ngôn ngữ này.\n",
    "thanh_lang.append('R')\n",
    "new_data"
   ]
  },
  {
   "cell_type": "code",
   "execution_count": 65,
   "metadata": {},
   "outputs": [
    {
     "data": {
      "text/plain": [
       "[{'name': 'Thanh',\n",
       "  'phone': '0988888888',\n",
       "  'languages': ['Python',\n",
       "   'C',\n",
       "   'SQL',\n",
       "   'HTML',\n",
       "   'CSS',\n",
       "   'JavaScript',\n",
       "   'Golang',\n",
       "   'R']},\n",
       " {'name': 'Duy',\n",
       "  'girl_friend': 'Maria',\n",
       "  'languages': ['Python', 'C', 'SQL', 'HTML', 'CSS', 'JavaScript', 'Golang']},\n",
       " {'name': 'Dai',\n",
       "  'girl_friend': 'Angela',\n",
       "  'languages': ['Python', 'C', 'SQL', 'HTML', 'CSS', 'JavaScript', 'Golang']},\n",
       " {'name': 'Tu',\n",
       "  'languages': ['Python', 'C', 'SQL', 'HTML', 'CSS', 'JavaScript', 'Golang'],\n",
       "  'girl_friend': 'Do Anh'}]"
      ]
     },
     "execution_count": 65,
     "metadata": {},
     "output_type": "execute_result"
    }
   ],
   "source": [
    "# \"Tu\" có bạn gái tên là \"Do Anh\"\n",
    "new_data[3]['girl_friend'] = \"Do Anh\"\n",
    "new_data"
   ]
  },
  {
   "cell_type": "code",
   "execution_count": 66,
   "metadata": {},
   "outputs": [
    {
     "data": {
      "text/plain": [
       "[{'name': 'Thanh',\n",
       "  'phone': '0988888888',\n",
       "  'languages': ['Python',\n",
       "   'C',\n",
       "   'SQL',\n",
       "   'HTML',\n",
       "   'CSS',\n",
       "   'JavaScript',\n",
       "   'Golang',\n",
       "   'R']},\n",
       " {'name': 'Duy',\n",
       "  'languages': ['Python', 'C', 'SQL', 'HTML', 'CSS', 'JavaScript', 'Golang']},\n",
       " {'name': 'Dai',\n",
       "  'girl_friend': 'Angela',\n",
       "  'languages': ['Python', 'C', 'SQL', 'HTML', 'CSS', 'JavaScript', 'Golang']},\n",
       " {'name': 'Tu',\n",
       "  'languages': ['Python', 'C', 'SQL', 'HTML', 'CSS', 'JavaScript', 'Golang'],\n",
       "  'girl_friend': 'Do Anh'}]"
      ]
     },
     "execution_count": 66,
     "metadata": {},
     "output_type": "execute_result"
    }
   ],
   "source": [
    "# \"Duy\" chia tay bạn gái, không còn bạn gái nữa.\n",
    "new_data[1].pop(\"girl_friend\")\n",
    "new_data"
   ]
  }
 ],
 "metadata": {
  "colab": {
   "name": "Task 4.ipynb",
   "provenance": []
  },
  "kernelspec": {
   "display_name": "Python 3 (ipykernel)",
   "language": "python",
   "name": "python3"
  },
  "language_info": {
   "codemirror_mode": {
    "name": "ipython",
    "version": 3
   },
   "file_extension": ".py",
   "mimetype": "text/x-python",
   "name": "python",
   "nbconvert_exporter": "python",
   "pygments_lexer": "ipython3",
   "version": "3.12.2"
  }
 },
 "nbformat": 4,
 "nbformat_minor": 4
}
