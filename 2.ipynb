{
 "cells": [
  {
   "cell_type": "markdown",
   "id": "a87e5efe-3c5e-42ed-b990-be73a5f960aa",
   "metadata": {},
   "source": [
    "## Task 1\n",
    "Với các giá trị a, b, c được nhập từ bàn phím hãy viết đoạn code giải phương trình bậc hai một ẩn \n",
    "$$ax^2 + bx + c = 0$$\n",
    "\n",
    "Lưu ý : Cần cover được hết các trường hợp."
   ]
  },
  {
   "cell_type": "code",
   "execution_count": null,
   "id": "6a8148b9",
   "metadata": {},
   "outputs": [],
   "source": [
    "a = float(input('Nhap a: '))\n",
    "b = float(input('Nhap b: '))\n",
    "c = float(input('Nhap c: '))"
   ]
  },
  {
   "cell_type": "code",
   "execution_count": null,
   "id": "410880ff-3def-493c-a36d-85e7c9c0db1a",
   "metadata": {},
   "outputs": [],
   "source": [
    "if a == 0:\n",
    "    if b == c == 0:\n",
    "        print('Vô số nghiệm')\n",
    "    elif (b == 0) and (c != 0):\n",
    "        print('Vô nghiệm')\n",
    "    else:  # ...\n",
    "        print(f'x = {-c/b}')\n",
    "else:\n",
    "    delta = b**2 - 4*a*c\n",
    "    if delta > 0:\n",
    "        x1 = (-b + delta**.5) / (2*a)\n",
    "        x2 = (-b - delta**.5) / (2*a)\n",
    "        print(f'Phương trình có 2 nghiệm: x1 = {x1} và x2 = {x2}')\n",
    "    elif delta == 0:\n",
    "        x = -b / (2*a)\n",
    "        print(f'Phương trình có nghiệm kép: x = {x}')\n",
    "    else:\n",
    "        print('Phương trình vô nghiệm')"
   ]
  },
  {
   "cell_type": "markdown",
   "id": "f30fbdf4-6b50-485d-9e3a-9c064f9673c9",
   "metadata": {},
   "source": [
    "## Task 2\n",
    "Với giá trị x được nhập từ bàn phím hãy viết hàm in ra màn hình :\n",
    "- bình phương của x nếu x chỉ chia hết cho 3\n",
    "- lập phương của x nếu x chỉ chia hết cho 5\n",
    "- hai lần giá trị x nếu x chia hết cho cả 3 và 5\n",
    "- giá trị x cho các trường hợp còn lại\n",
    "\n",
    "Ví dụ:\n",
    "```\n",
    "x = 3 -> in ra 3^2 = 9\n",
    "x = 25 -> in ra 25^3 = 15625\n",
    "x = 15 -> in ra 15*2 = 30\n",
    "x = 4 -> in ra 4\n",
    "```"
   ]
  },
  {
   "cell_type": "code",
   "execution_count": 3,
   "id": "2c3eff64-1f32-43e7-b728-4255c39b4acf",
   "metadata": {},
   "outputs": [],
   "source": [
    "x = 15"
   ]
  },
  {
   "cell_type": "code",
   "execution_count": 4,
   "id": "94982a09-838c-4bd6-ac2b-a0454f842740",
   "metadata": {},
   "outputs": [
    {
     "name": "stdout",
     "output_type": "stream",
     "text": [
      "30\n"
     ]
    }
   ],
   "source": [
    "# Cách 1\n",
    "if (x % 3 == 0) and (x % 5 != 0):\n",
    "    print(x**2)\n",
    "elif (x % 5 == 0) and (x % 3 != 0):\n",
    "    print(x**3)\n",
    "elif (x % 5 == 0) and (x % 3 == 0):\n",
    "    print(x*2)\n",
    "else:\n",
    "    print(x)"
   ]
  },
  {
   "cell_type": "code",
   "execution_count": 6,
   "id": "04678972-e7b3-4c22-a862-7fad96020610",
   "metadata": {},
   "outputs": [
    {
     "name": "stdout",
     "output_type": "stream",
     "text": [
      "30\n"
     ]
    }
   ],
   "source": [
    "# Cách 2\n",
    "if (x % 5 == 0) and (x % 3 == 0):\n",
    "    print(x*2)\n",
    "elif x % 5 == 0:  # chỉ chia hết cho 5\n",
    "    print(x**3)\n",
    "elif x % 3 == 0:  # chỉ chia hết cho 3\n",
    "    print(x**2)\n",
    "else:\n",
    "    print(x)"
   ]
  },
  {
   "cell_type": "markdown",
   "id": "7981426e",
   "metadata": {},
   "source": [
    "## Task 3\n",
    "Cho người dùng nhập từ bàn phím, ví dụ 36C hoặc 95F. Hãy viết đoạn code để biến đổi nhiệt độ từ độ C sang độ F và ngược lại từ độ F sang C, biết rằng công thức biến đổi như sau $$\\frac{C}{5} = \\frac{(F-32)}{9}$$\n",
    "\n",
    "Ví dụ:\n",
    "```\n",
    ">> Nhập : 95F\n",
    ">> Giá trị sau khi biến đổi: 35C\n",
    ">> Nhập : 36C\n",
    ">> Giá trị sau khi biến đổi: 96,8F\n",
    ">> Nhập : 90\n",
    ">> Sai định dạng vì thiếu F hoặc C\n",
    "```"
   ]
  },
  {
   "cell_type": "code",
   "execution_count": 21,
   "id": "c5ff8204",
   "metadata": {},
   "outputs": [
    {
     "name": "stdout",
     "output_type": "stream",
     "text": [
      "Nhập :  36C\n"
     ]
    }
   ],
   "source": [
    "inp = input('Nhập : ')"
   ]
  },
  {
   "cell_type": "code",
   "execution_count": 22,
   "id": "f84daed5-0805-4683-a60a-f8a45f6bcd18",
   "metadata": {},
   "outputs": [
    {
     "name": "stdout",
     "output_type": "stream",
     "text": [
      "Giá trị sau khi biến đổi: 96.8F\n"
     ]
    }
   ],
   "source": [
    "if inp.endswith('F'):\n",
    "    # Nếu nhập xâu kết thúc là chữ F (95F) thì tính ra độ C\n",
    "    temp = float(inp[:-1])  # Lấy ra xâu số từ input và cast sang float\n",
    "    temp_C = 5 * (temp - 32) / 9  # Tính độ C\n",
    "    print(f'Giá trị sau khi biến đổi: {temp_C}C')\n",
    "elif inp.endswith('C'):\n",
    "    temp = float(inp[:-1])\n",
    "    temp_F = 9*temp / 5 + 32\n",
    "    print(f'Giá trị sau khi biến đổi: {temp_F}F')\n",
    "else:\n",
    "    print('Sai định dạng vì thiếu F hoặc C')"
   ]
  },
  {
   "cell_type": "markdown",
   "id": "71a15ebe",
   "metadata": {},
   "source": [
    "# Task 4\n",
    "Nhập từ bàn phím 3 giá trị a, b, c là dạng số dương lớn hơn 0. Kiểm tra xem 3 giá trị a, b và c có lập thành 1 tam giác hay không.\n",
    "\n",
    "<b>Chú ý</b>: Ba giá trị a, b và c lập thành 1 tam giác khi và chỉ khi tổng 2 giá trị bất kỳ lớn hơn giá trị còn lại."
   ]
  },
  {
   "cell_type": "code",
   "execution_count": null,
   "id": "bea11cc5",
   "metadata": {},
   "outputs": [],
   "source": [
    "a = int(input(\"Nhap a (so duong lon hon 0): \"))\n",
    "b = int(input(\"Nhap b (so duong lon hon 0): \"))\n",
    "c = int(input(\"Nhap c (so duong lon hon 0): \"))\n",
    "\n",
    "if (a+b > c) and (b+c > a) and (c+a > b):\n",
    "    print(\"Lập thành tam giác\")\n",
    "else:\n",
    "    print(\"Không lập thành tam giác\")"
   ]
  },
  {
   "cell_type": "markdown",
   "id": "31cd41ac",
   "metadata": {},
   "source": [
    "# Task 5\n",
    "Cho người dùng nhập vào từ bàn phím năm sinh, và tính ra tuổi.<br>\n",
    "Nếu nhập sai định dạng (không phải là số) thì báo \"Sai định dạng\"\n",
    "\n",
    "```\n",
    ">>> Nhập năm sinh: abc\n",
    ">>> \"Sai định dạng\n",
    "\n",
    ">>> Nhập năm sinh: 2000\n",
    ">>> \"Năm nay bạn 25 tuổi\"\n",
    "```"
   ]
  },
  {
   "cell_type": "code",
   "execution_count": null,
   "id": "02389885-9713-44c0-8ebd-97342f1fb859",
   "metadata": {},
   "outputs": [],
   "source": [
    "value = input(\"Nhập năm sinh: \")\n",
    "if value.isdigit():  # Kiểm tra xem biến value có chứa toàn bộ kí tự số hay không \n",
    "    # Tính ra tuổi\n",
    "    age = 2025 - int(value)\n",
    "    print(f\"Năm nay bạn {age} tuổi\")\n",
    "else:\n",
    "    print(\"Sai định dạng\")"
   ]
  }
 ],
 "metadata": {
  "kernelspec": {
   "display_name": "Python 3 (ipykernel)",
   "language": "python",
   "name": "python3"
  },
  "language_info": {
   "codemirror_mode": {
    "name": "ipython",
    "version": 3
   },
   "file_extension": ".py",
   "mimetype": "text/x-python",
   "name": "python",
   "nbconvert_exporter": "python",
   "pygments_lexer": "ipython3",
   "version": "3.11.5"
  }
 },
 "nbformat": 4,
 "nbformat_minor": 5
}
