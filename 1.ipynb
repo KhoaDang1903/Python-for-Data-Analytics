{
 "cells": [
  {
   "cell_type": "markdown",
   "metadata": {},
   "source": [
    "### Task 1\n",
    "Trong python, kiểu dữ liệu float quy định phân cách phần thập phân bằng dấu \".\", hãy thực hiện convert đưa giá trị bị sai định dạng về đúng kiểu float.\n",
    "\n",
    "Gợi ý: các bạn vui lòng đọc trước các phương thức của string (string methods), ở đây cần dùng một vài thao tác xử lý như str.replace() để..."
   ]
  },
  {
   "cell_type": "code",
   "execution_count": 4,
   "metadata": {},
   "outputs": [],
   "source": [
    "invalid_value = ' 23.345,21'  # 23345.21"
   ]
  },
  {
   "cell_type": "code",
   "execution_count": null,
   "metadata": {},
   "outputs": [],
   "source": [
    "# B1: bỏ dấu . phân cách phần nghìn với trăm '23.345,21' -> '23345,21'\n",
    "invalid_value = invalid_value.replace('.', '')\n",
    "# B2: thay dấu , thành dấu . để phân cách phần thập phân '23345,21' -> '23345.21'\n",
    "invalid_value = invalid_value.replace(',', '.')\n",
    "# B3: bỏ khoảng trắng ở đầu xâu\n",
    "valid_value = invalid_value.lstrip()\n",
    "# B4: cast từ string sang float\n",
    "value = float(valid_value)\n",
    "print(value)"
   ]
  },
  {
   "cell_type": "markdown",
   "metadata": {
    "tags": []
   },
   "source": [
    "### Task 2\n",
    "Cho trước một xâu ký tự hãy tìm cách lấy ra đoạn ký tự là sđt bằng các cách khác nhau.\n",
    "\n",
    "Input: 'nguyen tuan Anh DA11 098 844 4888' --> Output mong muốn: '0988444888'\n",
    "\n",
    "Tương tự task 1, ở đây cũng cần thiết sử dụng một vài thao tác với string như extract xâu con, ..."
   ]
  },
  {
   "cell_type": "code",
   "execution_count": 13,
   "metadata": {},
   "outputs": [],
   "source": [
    "s = 'nguyen tuan Anh DA11 098 844 4888'  # output can la '0988444888'"
   ]
  },
  {
   "cell_type": "code",
   "execution_count": null,
   "metadata": {},
   "outputs": [],
   "source": [
    "# B1: extract lấy ra xâu raw cần thiết\n",
    "raw_phone_string = s[21:33]\n",
    "# B2: xử lý bỏ khoảng trắng từ xâu lấy ở B1\n",
    "phone_string = raw_phone_string.replace(' ', '')\n",
    "print(phone_string)"
   ]
  },
  {
   "cell_type": "code",
   "execution_count": null,
   "metadata": {},
   "outputs": [],
   "source": [
    "# Với bước 1 có nhiều cách khác để lấy ra substring\n",
    "# C2: Chỉ mục âm\n",
    "raw_phone_string = s[-12:]\n",
    "# C3: Tìm index của kí tự 0\n",
    "index_0 = s.find('0')\n",
    "raw_phone_string = s[index_0:]"
   ]
  }
 ],
 "metadata": {
  "kernelspec": {
   "display_name": "Python 3 (ipykernel)",
   "language": "python",
   "name": "python3"
  },
  "language_info": {
   "codemirror_mode": {
    "name": "ipython",
    "version": 3
   },
   "file_extension": ".py",
   "mimetype": "text/x-python",
   "name": "python",
   "nbconvert_exporter": "python",
   "pygments_lexer": "ipython3",
   "version": "3.11.5"
  }
 },
 "nbformat": 4,
 "nbformat_minor": 4
}
