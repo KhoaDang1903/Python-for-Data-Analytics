{
 "cells": [
  {
   "cell_type": "markdown",
   "id": "844ad3e1",
   "metadata": {},
   "source": [
    "## Task 1\n",
    "Nhập vào số nguyên n và in ra <b>TẤT CẢ </b> các số chính phương nhỏ hơn hoặc bằng n.<br>\n",
    "Notes : số chính phương là số tự nhiên có căn bậc hai là một số tự nhiên.\n",
    "\n",
    "Hint: for duyệt các số và if kiểm tra."
   ]
  },
  {
   "cell_type": "code",
   "execution_count": 2,
   "id": "b2db72bf-edaa-4841-b0a9-1a930408afb5",
   "metadata": {},
   "outputs": [],
   "source": [
    "# Duyệt tất cả các số từ 1 đến n\n",
    "## Kiểm tra xem số đó có phải là số chính phương hay\n",
    "### Nếu đúng -> in ra"
   ]
  },
  {
   "cell_type": "code",
   "execution_count": 7,
   "id": "ac90ad35-ea37-4005-beae-c005323de8b5",
   "metadata": {},
   "outputs": [],
   "source": [
    "n = 30"
   ]
  },
  {
   "cell_type": "code",
   "execution_count": 8,
   "id": "f8f51627-e0bd-4d48-9694-8dccf8f11d48",
   "metadata": {},
   "outputs": [
    {
     "name": "stdout",
     "output_type": "stream",
     "text": [
      "1\n",
      "4\n",
      "9\n",
      "16\n",
      "25\n"
     ]
    }
   ],
   "source": [
    "# Cách 1: kiểm tra căn của n có bằng phần nguyên của căn của n\n",
    "for i in range(1, n+1):\n",
    "    if (i**.5) == int(i**.5): \n",
    "        print(i)"
   ]
  },
  {
   "cell_type": "code",
   "execution_count": 9,
   "id": "d5abf8a8-ffbb-4760-b205-d2085e0369c1",
   "metadata": {},
   "outputs": [
    {
     "name": "stdout",
     "output_type": "stream",
     "text": [
      "1\n",
      "4\n",
      "9\n",
      "16\n",
      "25\n"
     ]
    }
   ],
   "source": [
    "# Cách 2:  float có phương thức là .is_integer() để kiểm tra xem có phải là integer hay không?\n",
    "for i in range(1, n+1):\n",
    "    if (i**.5).is_integer(): \n",
    "        print(i)"
   ]
  },
  {
   "cell_type": "code",
   "execution_count": 12,
   "id": "7903f123-d853-4063-9ecb-ee703d9e7138",
   "metadata": {},
   "outputs": [
    {
     "name": "stdout",
     "output_type": "stream",
     "text": [
      "1\n",
      "4\n",
      "9\n",
      "16\n",
      "25\n"
     ]
    }
   ],
   "source": [
    "# Cách 3: in ra tất cả i**2 miễn là i**2 <= n\n",
    "for i in range(1, n+1):\n",
    "    if i**2 <= n:  # 1, 2, 3, 4, 5, 6, 7, 8, 9, 10, 11, ...\n",
    "        print(i**2)"
   ]
  },
  {
   "cell_type": "markdown",
   "id": "88d93e1e-85c3-49c3-b2d1-a3064746352e",
   "metadata": {},
   "source": [
    "## Task 2\n",
    "Hãy tìm số giai thừa từ một giá trị được nhập từ bàn phím và in ra theo format như ví dụ:\n",
    "```\n",
    ">>> Nhập n = 5\n",
    ">>> Giá trị 5! = 120\n",
    "```"
   ]
  },
  {
   "cell_type": "code",
   "execution_count": 15,
   "id": "72815c6f-2996-4dfb-87db-d74efd2cd846",
   "metadata": {},
   "outputs": [
    {
     "name": "stdout",
     "output_type": "stream",
     "text": [
      "Nhập n =  5\n"
     ]
    },
    {
     "name": "stdout",
     "output_type": "stream",
     "text": [
      "1\n",
      "2\n",
      "6\n",
      "24\n",
      "120\n"
     ]
    }
   ],
   "source": [
    "value = int(input(\"Nhập n = \"))\n",
    "rs = 1\n",
    "\n",
    "for i in range(1, value+1):\n",
    "    rs *= i\n",
    "\n",
    "print(f\"{rs}\")"
   ]
  },
  {
   "cell_type": "markdown",
   "id": "ce24327d-8f44-49a3-86a9-49c57e2f657e",
   "metadata": {},
   "source": [
    "## Task 3\n",
    "Nếu a, b, c, d, ... (không phân biệt chữ hoa thường) lần lượt tương ứng với giá trị 1, 2, 3, 4, ... thì từ 'attitude' có giá trị bằng 100.<br>\n",
    "(https://9gag.com/gag/aWWP7bd?ref=fbp).<br>\n",
    "Viết script tính tổng điểm của 1 từ tiếng anh bất kì.\n",
    "\n",
    "hint: str.index() -> return giá trị index của ký tự truyền vào, ví dụ 'abcd'.index('a') -> 0"
   ]
  },
  {
   "cell_type": "code",
   "execution_count": 19,
   "id": "705f3d05",
   "metadata": {},
   "outputs": [],
   "source": [
    "import string\n",
    "\n",
    "alphabet = string.ascii_lowercase"
   ]
  },
  {
   "cell_type": "code",
   "execution_count": 25,
   "id": "b3e523c9-a898-4903-b085-616a7d8465b0",
   "metadata": {},
   "outputs": [],
   "source": [
    "word = 'Attitude'\n",
    "total = 0"
   ]
  },
  {
   "cell_type": "code",
   "execution_count": null,
   "id": "23a35f84",
   "metadata": {},
   "outputs": [],
   "source": [
    "# result = 0\n",
    "# 'attitude'\n",
    "# char = 'a'; value = alphabet.index('a')+1 = 1; result = 0 + value = 1\n",
    "# char = 't'; value = alphabet.index('t')+1 = 20; result = 1 + value = 21\n",
    "# char = 't'; value = alphabet.index('t')+1 = 20; result = 21 + value = 4\n",
    "# ..."
   ]
  },
  {
   "cell_type": "code",
   "execution_count": null,
   "id": "9e0af1a6-ee88-4393-825d-534df6b81b2d",
   "metadata": {},
   "outputs": [],
   "source": [
    "# Duyệt từng kí tự trong xâu\n",
    "## Đổi kí tự sang giá trị số nguyên theo quy ước\n",
    "## Tính tổng tích luỹ của từng kí tự đang duyệt sử dụng giá trị quy đổi -> total\n",
    "# Kết thúc vòng lặp thì total là giá trị cần tìm"
   ]
  },
  {
   "cell_type": "code",
   "execution_count": 26,
   "id": "a3c13385-9738-4648-b55a-813c5333373b",
   "metadata": {},
   "outputs": [],
   "source": [
    "for char in word.lower():\n",
    "    value = alphabet.index(char)+1\n",
    "    total += value"
   ]
  },
  {
   "cell_type": "code",
   "execution_count": 27,
   "id": "1db99d4c-8972-409c-acaa-6f06cebdd9f4",
   "metadata": {},
   "outputs": [
    {
     "data": {
      "text/plain": [
       "100"
      ]
     },
     "execution_count": 27,
     "metadata": {},
     "output_type": "execute_result"
    }
   ],
   "source": [
    "total"
   ]
  }
 ],
 "metadata": {
  "kernelspec": {
   "display_name": "Python 3 (ipykernel)",
   "language": "python",
   "name": "python3"
  },
  "language_info": {
   "codemirror_mode": {
    "name": "ipython",
    "version": 3
   },
   "file_extension": ".py",
   "mimetype": "text/x-python",
   "name": "python",
   "nbconvert_exporter": "python",
   "pygments_lexer": "ipython3",
   "version": "3.11.5"
  }
 },
 "nbformat": 4,
 "nbformat_minor": 5
}
